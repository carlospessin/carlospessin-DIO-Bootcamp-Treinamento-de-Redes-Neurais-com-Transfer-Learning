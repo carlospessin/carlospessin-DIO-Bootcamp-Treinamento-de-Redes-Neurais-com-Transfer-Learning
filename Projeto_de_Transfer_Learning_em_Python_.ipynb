{
  "nbformat": 4,
  "nbformat_minor": 0,
  "metadata": {
    "colab": {
      "provenance": [],
      "authorship_tag": "ABX9TyORAcC1JrR7pQceXEBCjFxW",
      "include_colab_link": true
    },
    "kernelspec": {
      "name": "python3",
      "display_name": "Python 3"
    },
    "language_info": {
      "name": "python"
    }
  },
  "cells": [
    {
      "cell_type": "markdown",
      "metadata": {
        "id": "view-in-github",
        "colab_type": "text"
      },
      "source": [
        "<a href=\"https://colab.research.google.com/github/carlospessin/carlospessin-DIO-Bootcamp-Treinamento-de-Redes-Neurais-com-Transfer-Learning/blob/main/Projeto_de_Transfer_Learning_em_Python_.ipynb\" target=\"_parent\"><img src=\"https://colab.research.google.com/assets/colab-badge.svg\" alt=\"Open In Colab\"/></a>"
      ]
    },
    {
      "cell_type": "code",
      "execution_count": null,
      "metadata": {
        "id": "moyyWvz6IBsR"
      },
      "outputs": [],
      "source": [
        "import tensorflow as tf\n",
        "from tensorflow.keras.applications import MobileNetV2\n",
        "from tensorflow.keras.preprocessing.image import ImageDataGenerator\n",
        "from tensorflow.keras.layers import Dense, GlobalAveragePooling2D\n",
        "from tensorflow.keras.models import Model\n",
        "from tensorflow.keras.optimizers import Adam\n",
        "from tensorflow.keras.models import load_model\n",
        "from tensorflow.keras.preprocessing.image import load_img, img_to_array\n",
        "import zipfile\n",
        "import os\n",
        "import shutil\n",
        "from PIL import Image\n",
        "import numpy as np"
      ]
    },
    {
      "cell_type": "code",
      "source": [
        "BATCH_SIZE = 32\n",
        "IMG_SIZE = (224, 224)\n",
        "EPOCHS = 10\n",
        "DATASET_URL = \"cats_vs_dogs.zip https://download.microsoft.com/download/3/E/1/3E1C3F21-ECDB-4869-8368-6DEBA77B919F/kagglecatsanddogs_5340.zip\""
      ],
      "metadata": {
        "id": "dCWSXn8LILp5"
      },
      "execution_count": null,
      "outputs": []
    },
    {
      "cell_type": "code",
      "source": [
        "!wget -O cats_vs_dogs.zip {DATASET_URL}\n",
        "with zipfile.ZipFile('cats_vs_dogs.zip', 'r') as zip_ref:\n",
        "    zip_ref.extractall('cats_vs_dogs')"
      ],
      "metadata": {
        "colab": {
          "base_uri": "https://localhost:8080/"
        },
        "id": "DC9LuS31Ij0c",
        "outputId": "19a60767-7841-4199-a716-fafd28b084fb"
      },
      "execution_count": null,
      "outputs": [
        {
          "output_type": "stream",
          "name": "stdout",
          "text": [
            "--2024-12-20 13:25:19--  http://cats_vs_dogs.zip/\n",
            "Resolving cats_vs_dogs.zip (cats_vs_dogs.zip)... failed: Name or service not known.\n",
            "wget: unable to resolve host address ‘cats_vs_dogs.zip’\n",
            "--2024-12-20 13:25:19--  https://download.microsoft.com/download/3/E/1/3E1C3F21-ECDB-4869-8368-6DEBA77B919F/kagglecatsanddogs_5340.zip\n",
            "Resolving download.microsoft.com (download.microsoft.com)... 184.29.22.44, 2600:1406:5600:78b::317f, 2600:1406:5600:790::317f\n",
            "Connecting to download.microsoft.com (download.microsoft.com)|184.29.22.44|:443... connected.\n",
            "HTTP request sent, awaiting response... 200 OK\n",
            "Length: 824887076 (787M) [application/octet-stream]\n",
            "Saving to: ‘cats_vs_dogs.zip’\n",
            "\n",
            "cats_vs_dogs.zip    100%[===================>] 786.67M   166MB/s    in 5.0s    \n",
            "\n",
            "2024-12-20 13:25:25 (156 MB/s) - ‘cats_vs_dogs.zip’ saved [824887076/824887076]\n",
            "\n",
            "FINISHED --2024-12-20 13:25:25--\n",
            "Total wall clock time: 5.3s\n",
            "Downloaded: 1 files, 787M in 5.0s (156 MB/s)\n"
          ]
        }
      ]
    },
    {
      "cell_type": "code",
      "source": [
        "base_dir = 'cats_vs_dogs/PetImages'\n",
        "train_dir = os.path.join('cats_vs_dogs_data', 'train')\n",
        "val_dir = os.path.join('cats_vs_dogs_data', 'val')\n",
        "\n",
        "if not os.path.exists(train_dir):\n",
        "    os.makedirs(train_dir)\n",
        "if not os.path.exists(val_dir):\n",
        "    os.makedirs(val_dir)\n",
        "\n",
        "for category in ['Cat', 'Dog']:\n",
        "    os.makedirs(os.path.join(train_dir, category), exist_ok=True)\n",
        "    os.makedirs(os.path.join(val_dir, category), exist_ok=True)"
      ],
      "metadata": {
        "id": "G3_U6EVvKTPV"
      },
      "execution_count": null,
      "outputs": []
    },
    {
      "cell_type": "code",
      "source": [
        "for category in ['Cat', 'Dog']:\n",
        "    img_path = os.path.join(base_dir, category)\n",
        "    if not os.path.exists(img_path):\n",
        "        print(f\"Diretório {img_path} não encontrado. Verifique a extração do dataset.\")\n",
        "        continue\n",
        "\n",
        "    images = os.listdir(img_path)\n",
        "    images = [img for img in images if img.endswith(('.jpg', '.jpeg', '.png', 'webp'))]\n",
        "\n",
        "    train_images = images[:int(len(images) * 0.8)]\n",
        "    val_images = images[int(len(images) * 0.8):]\n",
        "\n",
        "    for img in train_images:\n",
        "        shutil.copy(os.path.join(img_path, img), os.path.join(train_dir, category, img))\n",
        "    for img in val_images:\n",
        "        shutil.copy(os.path.join(img_path, img), os.path.join(val_dir, category, img))"
      ],
      "metadata": {
        "id": "C4-Ns9D9KZaH"
      },
      "execution_count": null,
      "outputs": []
    },
    {
      "cell_type": "code",
      "source": [
        "def validate_images(directory):\n",
        "    for root, _, files in os.walk(directory):\n",
        "        for file in files:\n",
        "            file_path = os.path.join(root, file)\n",
        "            try:\n",
        "                with Image.open(file_path) as img:\n",
        "                    img.verify()  # Verifica a integridade do arquivo\n",
        "            except (IOError, SyntaxError):\n",
        "                print(f\"Removendo arquivo inválido: {file_path}\")\n",
        "                os.remove(file_path)\n",
        "\n",
        "# Validar imagens nos diretórios de treino e validação\n",
        "validate_images(train_dir)\n",
        "validate_images(val_dir)"
      ],
      "metadata": {
        "colab": {
          "base_uri": "https://localhost:8080/"
        },
        "id": "oI-V8tUoPUgA",
        "outputId": "ee43e38d-3513-491b-ce5c-ec0efad4fdd5"
      },
      "execution_count": null,
      "outputs": [
        {
          "output_type": "stream",
          "name": "stdout",
          "text": [
            "Removendo arquivo inválido: cats_vs_dogs_data/train/Dog/11702.jpg\n",
            "Removendo arquivo inválido: cats_vs_dogs_data/train/Cat/666.jpg\n"
          ]
        },
        {
          "output_type": "stream",
          "name": "stderr",
          "text": [
            "/usr/local/lib/python3.10/dist-packages/PIL/TiffImagePlugin.py:935: UserWarning: Truncated File Read\n",
            "  warnings.warn(str(msg))\n"
          ]
        }
      ]
    },
    {
      "cell_type": "code",
      "source": [
        "validate_images(train_dir)\n",
        "validate_images(val_dir)"
      ],
      "metadata": {
        "id": "hyhhoA2MPYw2"
      },
      "execution_count": null,
      "outputs": []
    },
    {
      "cell_type": "code",
      "source": [
        "train_datagen = ImageDataGenerator(\n",
        "    rescale=1.0/255,\n",
        "    rotation_range=30,\n",
        "    width_shift_range=0.2,\n",
        "    height_shift_range=0.2,\n",
        "    shear_range=0.2,\n",
        "    zoom_range=0.2,\n",
        "    horizontal_flip=True\n",
        ")"
      ],
      "metadata": {
        "id": "vYZ8X18NLkAY"
      },
      "execution_count": null,
      "outputs": []
    },
    {
      "cell_type": "code",
      "source": [
        "val_datagen = ImageDataGenerator(rescale=1.0/255)\n",
        "\n",
        "train_generator = train_datagen.flow_from_directory(\n",
        "    train_dir,\n",
        "    target_size=IMG_SIZE,\n",
        "    batch_size=BATCH_SIZE,\n",
        "    class_mode='binary'\n",
        ")"
      ],
      "metadata": {
        "colab": {
          "base_uri": "https://localhost:8080/"
        },
        "id": "4VsQxXdsLmTA",
        "outputId": "147373a0-deda-41d3-e0d5-71b13cda6c4c"
      },
      "execution_count": null,
      "outputs": [
        {
          "output_type": "stream",
          "name": "stdout",
          "text": [
            "Found 19998 images belonging to 2 classes.\n"
          ]
        }
      ]
    },
    {
      "cell_type": "code",
      "source": [
        "val_generator = val_datagen.flow_from_directory(\n",
        "    val_dir,\n",
        "    target_size=IMG_SIZE,\n",
        "    batch_size=BATCH_SIZE,\n",
        "    class_mode='binary'\n",
        ")"
      ],
      "metadata": {
        "colab": {
          "base_uri": "https://localhost:8080/"
        },
        "id": "sklXqLBZLoGX",
        "outputId": "616e55e4-f42b-4dde-fc77-228016b97dd5"
      },
      "execution_count": null,
      "outputs": [
        {
          "output_type": "stream",
          "name": "stdout",
          "text": [
            "Found 5000 images belonging to 2 classes.\n"
          ]
        }
      ]
    },
    {
      "cell_type": "code",
      "source": [
        "base_model = MobileNetV2(weights='imagenet', include_top=False, input_shape=IMG_SIZE + (3,))\n",
        "base_model.trainable = False"
      ],
      "metadata": {
        "id": "0FyJnpSlLpxq"
      },
      "execution_count": null,
      "outputs": []
    },
    {
      "cell_type": "code",
      "source": [
        "x = base_model.output\n",
        "x = GlobalAveragePooling2D()(x)\n",
        "x = Dense(50, activation='relu')(x)\n",
        "predictions = Dense(1, activation='sigmoid')(x)"
      ],
      "metadata": {
        "id": "tobwrT0aLsUp"
      },
      "execution_count": null,
      "outputs": []
    },
    {
      "cell_type": "code",
      "source": [
        "for layer in model.layers[:156]:\n",
        "  layer.trainable=False\n",
        "for layer in model.layers[156:]:\n",
        "  layer.tainable=True"
      ],
      "metadata": {
        "id": "NXsdGQobMf75"
      },
      "execution_count": null,
      "outputs": []
    },
    {
      "cell_type": "code",
      "source": [
        "model = Model(inputs=base_model.input, outputs=predictions)"
      ],
      "metadata": {
        "id": "I2s0mHOmLug9"
      },
      "execution_count": null,
      "outputs": []
    },
    {
      "cell_type": "code",
      "source": [
        "model.compile(optimizer=Adam(learning_rate=0.0001),\n",
        "              loss='binary_crossentropy',\n",
        "              metrics=['accuracy'])"
      ],
      "metadata": {
        "id": "LGuwHVy7Lwb9"
      },
      "execution_count": null,
      "outputs": []
    },
    {
      "cell_type": "code",
      "source": [
        "history = model.fit(\n",
        "    train_generator,\n",
        "    steps_per_epoch=train_generator.samples // BATCH_SIZE,\n",
        "    validation_data=val_generator,\n",
        "    validation_steps=val_generator.samples // BATCH_SIZE,\n",
        "    epochs=EPOCHS\n",
        ")"
      ],
      "metadata": {
        "colab": {
          "base_uri": "https://localhost:8080/"
        },
        "id": "tDBRJKLiLxyt",
        "outputId": "a21c6e8b-972e-4143-f484-ffda42cd8961"
      },
      "execution_count": null,
      "outputs": [
        {
          "output_type": "stream",
          "name": "stdout",
          "text": [
            "Epoch 1/10\n",
            "\u001b[1m624/624\u001b[0m \u001b[32m━━━━━━━━━━━━━━━━━━━━\u001b[0m\u001b[37m\u001b[0m \u001b[1m1304s\u001b[0m 2s/step - accuracy: 0.9168 - loss: 0.2321 - val_accuracy: 0.9760 - val_loss: 0.0656\n",
            "Epoch 2/10\n",
            "\u001b[1m  1/624\u001b[0m \u001b[37m━━━━━━━━━━━━━━━━━━━━\u001b[0m \u001b[1m12:07\u001b[0m 1s/step - accuracy: 0.9375 - loss: 0.2085"
          ]
        },
        {
          "output_type": "stream",
          "name": "stderr",
          "text": [
            "/usr/lib/python3.10/contextlib.py:153: UserWarning: Your input ran out of data; interrupting training. Make sure that your dataset or generator can generate at least `steps_per_epoch * epochs` batches. You may need to use the `.repeat()` function when building your dataset.\n",
            "  self.gen.throw(typ, value, traceback)\n"
          ]
        },
        {
          "output_type": "stream",
          "name": "stdout",
          "text": [
            "\b\b\b\b\b\b\b\b\b\b\b\b\b\b\b\b\b\b\b\b\b\b\b\b\b\b\b\b\b\b\b\b\b\b\b\b\b\b\b\b\b\b\b\b\b\b\b\b\b\b\b\b\b\b\b\b\b\b\b\b\b\b\b\b\b\b\b\b\b\b\b\b\b\b\b\b\r\u001b[1m624/624\u001b[0m \u001b[32m━━━━━━━━━━━━━━━━━━━━\u001b[0m\u001b[37m\u001b[0m \u001b[1m2s\u001b[0m 649us/step - accuracy: 0.9375 - loss: 0.2085 - val_accuracy: 1.0000 - val_loss: 0.0066\n",
            "Epoch 3/10\n",
            "\u001b[1m624/624\u001b[0m \u001b[32m━━━━━━━━━━━━━━━━━━━━\u001b[0m\u001b[37m\u001b[0m \u001b[1m1299s\u001b[0m 2s/step - accuracy: 0.9687 - loss: 0.0846 - val_accuracy: 0.9784 - val_loss: 0.0568\n",
            "Epoch 4/10\n",
            "\u001b[1m624/624\u001b[0m \u001b[32m━━━━━━━━━━━━━━━━━━━━\u001b[0m\u001b[37m\u001b[0m \u001b[1m1s\u001b[0m 498us/step - accuracy: 1.0000 - loss: 0.0195 - val_accuracy: 0.6250 - val_loss: 0.4873\n",
            "Epoch 5/10\n",
            "\u001b[1m624/624\u001b[0m \u001b[32m━━━━━━━━━━━━━━━━━━━━\u001b[0m\u001b[37m\u001b[0m \u001b[1m1316s\u001b[0m 2s/step - accuracy: 0.9694 - loss: 0.0787 - val_accuracy: 0.9802 - val_loss: 0.0518\n",
            "Epoch 6/10\n",
            "\u001b[1m624/624\u001b[0m \u001b[32m━━━━━━━━━━━━━━━━━━━━\u001b[0m\u001b[37m\u001b[0m \u001b[1m1s\u001b[0m 448us/step - accuracy: 0.9375 - loss: 0.1738 - val_accuracy: 1.0000 - val_loss: 0.0013\n",
            "Epoch 7/10\n",
            "\u001b[1m624/624\u001b[0m \u001b[32m━━━━━━━━━━━━━━━━━━━━\u001b[0m\u001b[37m\u001b[0m \u001b[1m1267s\u001b[0m 2s/step - accuracy: 0.9696 - loss: 0.0771 - val_accuracy: 0.9820 - val_loss: 0.0492\n",
            "Epoch 8/10\n",
            "\u001b[1m624/624\u001b[0m \u001b[32m━━━━━━━━━━━━━━━━━━━━\u001b[0m\u001b[37m\u001b[0m \u001b[1m1s\u001b[0m 458us/step - accuracy: 0.9688 - loss: 0.1589 - val_accuracy: 1.0000 - val_loss: 0.0112\n",
            "Epoch 9/10\n",
            "\u001b[1m624/624\u001b[0m \u001b[32m━━━━━━━━━━━━━━━━━━━━\u001b[0m\u001b[37m\u001b[0m \u001b[1m1290s\u001b[0m 2s/step - accuracy: 0.9723 - loss: 0.0715 - val_accuracy: 0.9772 - val_loss: 0.0619\n",
            "Epoch 10/10\n",
            "\u001b[1m624/624\u001b[0m \u001b[32m━━━━━━━━━━━━━━━━━━━━\u001b[0m\u001b[37m\u001b[0m \u001b[1m1s\u001b[0m 500us/step - accuracy: 1.0000 - loss: 0.0093 - val_accuracy: 1.0000 - val_loss: 0.0066\n"
          ]
        }
      ]
    },
    {
      "cell_type": "code",
      "source": [
        "loss, accuracy = model.evaluate(val_generator)\n",
        "print(f\"Loss: {loss:.4f}, Accuracy: {accuracy:.4f}\")"
      ],
      "metadata": {
        "colab": {
          "base_uri": "https://localhost:8080/"
        },
        "id": "qnVAJLQLL1LT",
        "outputId": "10759527-2da9-4bd2-bcd3-c1aed030f236"
      },
      "execution_count": null,
      "outputs": [
        {
          "output_type": "stream",
          "name": "stdout",
          "text": [
            "\u001b[1m157/157\u001b[0m \u001b[32m━━━━━━━━━━━━━━━━━━━━\u001b[0m\u001b[37m\u001b[0m \u001b[1m214s\u001b[0m 1s/step - accuracy: 0.9773 - loss: 0.0587\n",
            "Loss: 0.0634, Accuracy: 0.9772\n"
          ]
        }
      ]
    },
    {
      "cell_type": "code",
      "source": [
        "model.save('cats_vs_dogs_transfer_learning.h5')"
      ],
      "metadata": {
        "colab": {
          "base_uri": "https://localhost:8080/"
        },
        "id": "ZfytMsNmL2Ou",
        "outputId": "b658c433-0692-44a7-dd5c-6a3be1ae16c4"
      },
      "execution_count": null,
      "outputs": [
        {
          "output_type": "stream",
          "name": "stderr",
          "text": [
            "WARNING:absl:You are saving your model as an HDF5 file via `model.save()` or `keras.saving.save_model(model)`. This file format is considered legacy. We recommend using instead the native Keras format, e.g. `model.save('my_model.keras')` or `keras.saving.save_model(model, 'my_model.keras')`. \n"
          ]
        }
      ]
    },
    {
      "cell_type": "code",
      "source": [
        "def predict_image(image_path):\n",
        "    img = load_img(image_path, target_size=(224, 224))  # Redimensionar a imagem\n",
        "    img_array = img_to_array(img)  # Converter para array NumPy\n",
        "    img_array = np.expand_dims(img_array, axis=0)  # Adicionar dimensão de lote\n",
        "    img_array = img_array / 255.0  # Normalizar os pixels\n",
        "\n",
        "    prediction = model.predict(img_array)\n",
        "\n",
        "    if prediction[0][0] > 0.5:\n",
        "        return f\"A imagem é de um cachorro com {prediction[0][0] * 100:.2f}% de confiança.\"\n",
        "    else:\n",
        "        return f\"A imagem é de um gato com {(1 - prediction[0][0]) * 100:.2f}% de confiança.\""
      ],
      "metadata": {
        "id": "4RmKCs_d7e1S"
      },
      "execution_count": null,
      "outputs": []
    },
    {
      "cell_type": "code",
      "source": [
        "image_path = 'imagem.webp'  # Substitua pelo caminho da imagem\n",
        "result = predict_image(image_path)\n",
        "print(result)"
      ],
      "metadata": {
        "colab": {
          "base_uri": "https://localhost:8080/"
        },
        "id": "QAJTCUmC9flF",
        "outputId": "10c376ee-4ded-4434-bd2e-f8cfbdd329e9"
      },
      "execution_count": null,
      "outputs": [
        {
          "output_type": "stream",
          "name": "stdout",
          "text": [
            "\u001b[1m1/1\u001b[0m \u001b[32m━━━━━━━━━━━━━━━━━━━━\u001b[0m\u001b[37m\u001b[0m \u001b[1m2s\u001b[0m 2s/step\n",
            "A imagem é de um cachorro com 86.65% de confiança.\n"
          ]
        }
      ]
    }
  ]
}